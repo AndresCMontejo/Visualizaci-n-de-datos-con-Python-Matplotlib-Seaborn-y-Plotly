{
  "nbformat": 4,
  "nbformat_minor": 0,
  "metadata": {
    "colab": {
      "provenance": [],
      "authorship_tag": "ABX9TyP8ISdwm1K2v/GzTsSYvv8K",
      "include_colab_link": true
    },
    "kernelspec": {
      "name": "python3",
      "display_name": "Python 3"
    },
    "language_info": {
      "name": "python"
    }
  },
  "cells": [
    {
      "cell_type": "markdown",
      "metadata": {
        "id": "view-in-github",
        "colab_type": "text"
      },
      "source": [
        "<a href=\"https://colab.research.google.com/github/AndresCMontejo/Visualizaci-n-de-datos-con-Python-Matplotlib-Seaborn-y-Plotly/blob/main/Visualizando_datos_de_ventas_de_tiendas_diferentes.ipynb\" target=\"_parent\"><img src=\"https://colab.research.google.com/assets/colab-badge.svg\" alt=\"Open In Colab\"/></a>"
      ]
    },
    {
      "cell_type": "code",
      "execution_count": null,
      "metadata": {
        "id": "UVJRURWuOoUh"
      },
      "outputs": [],
      "source": []
    }
  ]
}